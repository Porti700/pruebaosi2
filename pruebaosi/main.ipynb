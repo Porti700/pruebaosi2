{
 "cells": [
  {
   "cell_type": "code",
   "execution_count": null,
   "metadata": {},
   "outputs": [],
   "source": [
    "## 2. Import Modules Json, Os to manage Json files\n",
    "\n",
    "import json\n",
    "import os\n",
    "\n",
    "## Open and load the Json file and print the json object\n",
    "with open('PythonDevTestJson.json', 'r') as python_test_json:\n",
    "    data = json.load(python_test_json)"
   ]
  },
  {
   "cell_type": "code",
   "execution_count": 36,
   "metadata": {},
   "outputs": [
    {
     "data": {
      "text/plain": [
       "{'Company': 'Fairwinds Estate Winery',\n",
       " 'HiringCompany': 'Outsourcing International',\n",
       " 'Departments': ['Logistics',\n",
       "  'Sales',\n",
       "  'Marketing',\n",
       "  'Accounting',\n",
       "  'Finance',\n",
       "  'Graphic Design',\n",
       "  'Human Resources',\n",
       "  'Business Intelligence'],\n",
       " 'OpenPositions': [{'Position': 'Warehouse Manager',\n",
       "   'Department': 'Logistics',\n",
       "   'Location': 'Principal Warehouse',\n",
       "   'RequestedBy': 'Logistics Manager'},\n",
       "  {'Position': 'Telesales Representative',\n",
       "   'Department': 'Sales',\n",
       "   'Location': 'Main Call Center',\n",
       "   'Requested by': 'Sales Manager'},\n",
       "  {'Position': 'Marketing Analyst',\n",
       "   'Department': 'Marketing',\n",
       "   'Location': 'Central Office',\n",
       "   'RequestedBy': 'Marketing Chief'},\n",
       "  {'Position': 'Datawarehouse Admin',\n",
       "   'Department': 'BusinessIntelligence',\n",
       "   'Location': 'Central Office',\n",
       "   'RequestedBy': 'Business Intelligence Specialist'},\n",
       "  {'Position': 'Business Analyst',\n",
       "   'Department': 'BusinessIntelligence',\n",
       "   'Location': 'Central Office',\n",
       "   'RequestedBy': 'Business Intelligence Chief'},\n",
       "  {'Position': 'Python Developer',\n",
       "   'Department': 'Business Intelligence',\n",
       "   'Location': 'Avante',\n",
       "   'RequestedBy': 'COO'}]}"
      ]
     },
     "execution_count": 36,
     "metadata": {},
     "output_type": "execute_result"
    }
   ],
   "source": [
    "# Print data\n",
    "data"
   ]
  },
  {
   "cell_type": "code",
   "execution_count": null,
   "metadata": {},
   "outputs": [],
   "source": [
    "#3. Obtain the last nested object inside of the “OpenPositions” key and create a new object\n",
    "with open('PythonDevTestJson.json', 'r') as f:\n",
    "    data_position = json.load(f) \n",
    "  "
   ]
  },
  {
   "cell_type": "code",
   "execution_count": null,
   "metadata": {},
   "outputs": [],
   "source": [
    "## Obtain the object OpenPositions\n",
    "data_position['OpenPositions']"
   ]
  },
  {
   "cell_type": "code",
   "execution_count": 46,
   "metadata": {},
   "outputs": [
    {
     "data": {
      "text/plain": [
       "{'Position': 'Python Developer',\n",
       " 'Department': 'Business Intelligence',\n",
       " 'Location': 'Avante',\n",
       " 'RequestedBy': 'COO'}"
      ]
     },
     "execution_count": 46,
     "metadata": {},
     "output_type": "execute_result"
    }
   ],
   "source": [
    "## 3.Obtain the last list nested in the object\n",
    "data_position['OpenPositions'][5]"
   ]
  },
  {
   "cell_type": "code",
   "execution_count": null,
   "metadata": {},
   "outputs": [],
   "source": [
    "# Create a new object \n",
    "\n",
    "myList = [{\n",
    "\"Position\": \"FullStack Developer Java\",\n",
    "\"Department\": \"Business Intelligence\",\n",
    "\"Location\": \"Central Office Avante\",\n",
    "\"RequestedBy\": \"Marketing Manager\"\n",
    "} ]\n",
    "jsonString = json.dumps(myList, indent=4)\n",
    "print(jsonString)\n",
    "\n",
    "with open('PythonDevTestJson.json', 'r') as f:\n",
    "    data_position = json.load(f) \n",
    "    data_position['OpenPositions']\n",
    "    \n",
    "   "
   ]
  },
  {
   "cell_type": "code",
   "execution_count": 88,
   "metadata": {},
   "outputs": [
    {
     "data": {
      "text/plain": [
       "[{'Position': 'Warehouse Manager',\n",
       "  'Department': 'Logistics',\n",
       "  'Location': 'Principal Warehouse',\n",
       "  'RequestedBy': 'Logistics Manager'},\n",
       " {'Position': 'Telesales Representative',\n",
       "  'Department': 'Sales',\n",
       "  'Location': 'Main Call Center',\n",
       "  'Requested by': 'Sales Manager'},\n",
       " {'Position': 'Marketing Analyst',\n",
       "  'Department': 'Marketing',\n",
       "  'Location': 'Central Office',\n",
       "  'RequestedBy': 'Marketing Chief'},\n",
       " {'Position': 'Datawarehouse Admin',\n",
       "  'Department': 'BusinessIntelligence',\n",
       "  'Location': 'Central Office',\n",
       "  'RequestedBy': 'Business Intelligence Specialist'},\n",
       " {'Position': 'Business Analyst',\n",
       "  'Department': 'BusinessIntelligence',\n",
       "  'Location': 'Central Office',\n",
       "  'RequestedBy': 'Business Intelligence Chief'},\n",
       " {'Position': 'Python Developer',\n",
       "  'Department': 'Business Intelligence',\n",
       "  'Location': 'Avante',\n",
       "  'RequestedBy': 'COO'},\n",
       " {'Position': 'FullStack Developer Java',\n",
       "  'Department': 'Business Intelligence',\n",
       "  'Location': 'Central Office Avante',\n",
       "  'RequestedBy': 'Marketing Manager'},\n",
       " {'Position': 'FullStack Developer Java',\n",
       "  'Department': 'Business Intelligence',\n",
       "  'Location': 'Central Office Avante',\n",
       "  'RequestedBy': 'Marketing Manager'}]"
      ]
     },
     "execution_count": 88,
     "metadata": {},
     "output_type": "execute_result"
    }
   ],
   "source": [
    "new_entry = data_position['OpenPositions']\n",
    "new_entry.append({\n",
    "\"Position\": \"FullStack Developer Java\",\n",
    "\"Department\": \"Business Intelligence\",\n",
    "\"Location\": \"Central Office Avante\",\n",
    "\"RequestedBy\": \"Marketing Manager\"\n",
    "})\n",
    "new_entry"
   ]
  },
  {
   "cell_type": "code",
   "execution_count": 90,
   "metadata": {},
   "outputs": [
    {
     "data": {
      "text/plain": [
       "[{'Position': 'Warehouse Manager',\n",
       "  'Department': 'Logistics',\n",
       "  'Location': 'Principal Warehouse',\n",
       "  'RequestedBy': 'Logistics Manager'},\n",
       " {'Position': 'Telesales Representative',\n",
       "  'Department': 'Sales',\n",
       "  'Location': 'Main Call Center',\n",
       "  'Requested by': 'Sales Manager'},\n",
       " {'Position': 'Marketing Analyst',\n",
       "  'Department': 'Marketing',\n",
       "  'Location': 'Central Office',\n",
       "  'RequestedBy': 'Marketing Chief'},\n",
       " {'Position': 'Datawarehouse Admin',\n",
       "  'Department': 'BusinessIntelligence',\n",
       "  'Location': 'Central Office',\n",
       "  'RequestedBy': 'Business Intelligence Specialist'},\n",
       " {'Position': 'Business Analyst',\n",
       "  'Department': 'BusinessIntelligence',\n",
       "  'Location': 'Central Office',\n",
       "  'RequestedBy': 'Business Intelligence Chief'},\n",
       " {'Position': 'Python Developer',\n",
       "  'Department': 'Business Intelligence',\n",
       "  'Location': 'Avante',\n",
       "  'RequestedBy': 'COO'},\n",
       " {'Position': 'FullStack Developer Java',\n",
       "  'Department': 'Business Intelligence',\n",
       "  'Location': 'Central Office Avante',\n",
       "  'RequestedBy': 'Marketing Manager'},\n",
       " {'Position': 'FullStack Developer Java',\n",
       "  'Department': 'Business Intelligence',\n",
       "  'Location': 'Central Office Avante',\n",
       "  'RequestedBy': 'Marketing Manager'},\n",
       " {'Company': 'Fairwinds Estate Winery'},\n",
       " {'Company': 'Fairwinds Estate Winery'}]"
      ]
     },
     "execution_count": 90,
     "metadata": {},
     "output_type": "execute_result"
    }
   ],
   "source": [
    "# 4. Append the Company key and value to the new object\n",
    "\n",
    "new_entry.append({\n",
    "    \t\"Company\": \"Fairwinds Estate Winery\"\n",
    "})\n",
    "new_entry"
   ]
  },
  {
   "cell_type": "code",
   "execution_count": 92,
   "metadata": {},
   "outputs": [],
   "source": [
    "# 5. Create a new key called “Relevance” and add a value according to a simple logic rule. In case the\n",
    "# Person in the “RequestedBy” key is a C-level executive (CFO, CEO, or starts with C.) assign the\n",
    "# value of “Important”, otherwise assign “Normal”.\n",
    "\n",
    "i = {}\n",
    "i['relevance'] = {}\n",
    "i['relevance']['Logistics Manager'] = 'Normal'\n",
    "i['relevance']['Sales Manager'] = 'Normal'\n",
    "i['relevance']['Marketing Chief'] = 'Normal'\n",
    "i['relevance']['Business Intelligence Specialist'] = 'Normal'\n",
    "i['relevance']['Business Intelligence Chief'] = 'Normal'\n",
    "i['relevance']['COO'] = 'Important'\n",
    "\n",
    "new_entry.append(i)\n"
   ]
  },
  {
   "cell_type": "code",
   "execution_count": 93,
   "metadata": {},
   "outputs": [
    {
     "data": {
      "text/plain": [
       "[{'Position': 'Warehouse Manager',\n",
       "  'Department': 'Logistics',\n",
       "  'Location': 'Principal Warehouse',\n",
       "  'RequestedBy': 'Logistics Manager'},\n",
       " {'Position': 'Telesales Representative',\n",
       "  'Department': 'Sales',\n",
       "  'Location': 'Main Call Center',\n",
       "  'Requested by': 'Sales Manager'},\n",
       " {'Position': 'Marketing Analyst',\n",
       "  'Department': 'Marketing',\n",
       "  'Location': 'Central Office',\n",
       "  'RequestedBy': 'Marketing Chief'},\n",
       " {'Position': 'Datawarehouse Admin',\n",
       "  'Department': 'BusinessIntelligence',\n",
       "  'Location': 'Central Office',\n",
       "  'RequestedBy': 'Business Intelligence Specialist'},\n",
       " {'Position': 'Business Analyst',\n",
       "  'Department': 'BusinessIntelligence',\n",
       "  'Location': 'Central Office',\n",
       "  'RequestedBy': 'Business Intelligence Chief'},\n",
       " {'Position': 'Python Developer',\n",
       "  'Department': 'Business Intelligence',\n",
       "  'Location': 'Avante',\n",
       "  'RequestedBy': 'COO'},\n",
       " {'Position': 'FullStack Developer Java',\n",
       "  'Department': 'Business Intelligence',\n",
       "  'Location': 'Central Office Avante',\n",
       "  'RequestedBy': 'Marketing Manager'},\n",
       " {'Position': 'FullStack Developer Java',\n",
       "  'Department': 'Business Intelligence',\n",
       "  'Location': 'Central Office Avante',\n",
       "  'RequestedBy': 'Marketing Manager'},\n",
       " {'Company': 'Fairwinds Estate Winery'},\n",
       " {'Company': 'Fairwinds Estate Winery'},\n",
       " {'relevance': {'Logistics Manager': 'Normal',\n",
       "   'Sales Manager': 'Normal',\n",
       "   'Marketing Chief': 'Normal',\n",
       "   'Business Intelligence Specialist': 'Normal',\n",
       "   'Business Intelligence Chief': 'Normal',\n",
       "   'COO': 'Important'}}]"
      ]
     },
     "execution_count": 93,
     "metadata": {},
     "output_type": "execute_result"
    }
   ],
   "source": [
    "new_entry"
   ]
  },
  {
   "cell_type": "code",
   "execution_count": 2,
   "metadata": {},
   "outputs": [
    {
     "name": "stdout",
     "output_type": "stream",
     "text": [
      "Status Code: 401, Response: {'error': {'code': 'DirectApiAuthorizationRequired', 'message': 'The request must be authenticated only by Shared Access scheme.'}}\n"
     ]
    }
   ],
   "source": [
    "# 6. Using any API library connect to the following URL and Post your new Json object.\n",
    "\n",
    "import requests\n",
    "import json\n",
    "with open('PythonDevTestJson.json', 'r') as python_test_json:\n",
    "    data_post = json.load(python_test_json)\n",
    "    r_example = requests.post('https://prod-15.centralus.logic.azure.com/workflows/69a8c2c1eec3478c99572a55b6fe0cda/triggers/manual/paths/invoke?api-version=2016-10-01&amp;sp=%2Ftriggers%2Fmanual%2Frun&amp;sv=1.0&amp;sig=_B4AWq129Ye7M83TwnPAUFpOyf_4rWRGR3suNmnXt7A',  data_post)\n",
    "print(f\"Status Code: {r_example.status_code}, Response: {r_example.json()}\")"
   ]
  },
  {
   "cell_type": "markdown",
   "metadata": {},
   "source": [
    "new_open_positions ={\n",
    "'Position': 'FullStack Developer Java',\n",
    "'Department': 'Business Intelligence',\n",
    "'Location': 'Central Office Avante',\n",
    "'RequestedBy': 'Marketing Manager'\n",
    "} "
   ]
  }
 ],
 "metadata": {
  "kernelspec": {
   "display_name": "Python 3.9.4 64-bit",
   "language": "python",
   "name": "python3"
  },
  "language_info": {
   "codemirror_mode": {
    "name": "ipython",
    "version": 3
   },
   "file_extension": ".py",
   "mimetype": "text/x-python",
   "name": "python",
   "nbconvert_exporter": "python",
   "pygments_lexer": "ipython3",
   "version": "3.9.4"
  },
  "orig_nbformat": 4,
  "vscode": {
   "interpreter": {
    "hash": "4a8810a880f6437f4776ff2f418711cf7f417c0bf1ead931258a913d4cfe6afb"
   }
  }
 },
 "nbformat": 4,
 "nbformat_minor": 2
}
